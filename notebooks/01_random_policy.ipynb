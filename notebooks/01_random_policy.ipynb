{
 "cells": [
  {
   "cell_type": "markdown",
   "id": "95fb1a4f-43b5-4464-9ad0-d1d689ac0e18",
   "metadata": {},
   "source": [
    "# Random policy"
   ]
  },
  {
   "cell_type": "markdown",
   "id": "b555514e-02e7-4828-a98a-9c0cb0218de6",
   "metadata": {},
   "source": [
    "This the most basic player strategy - choose actions at random. A random policy ($Pi_{R}$) has following flow:\n",
    "1. at random (with $p=1/2$) draw card from discard or deck pile\n",
    "2. choose card from board at random and replace it with newly drawn card\n",
    "3. repeat till all cards are turned or someone else ended the game"
   ]
  },
  {
   "cell_type": "markdown",
   "id": "f19074fa-5e72-464f-b808-65bba1af0b73",
   "metadata": {},
   "source": [
    "## Modfication\n",
    "There are many small _tweaks_ to the random policy:\n",
    " - change $p$ (probability of choosing a card from discard pile)\n",
    " - choose known over unknown card from the board, $q=\\frac{\\#\\ known\\ cards}{\\#\\ uknown\\ cards}$ (probability of choosing a known card)"
   ]
  }
 ],
 "metadata": {
  "kernelspec": {
   "display_name": "Python 3 (ipykernel)",
   "language": "python",
   "name": "python3"
  },
  "language_info": {
   "codemirror_mode": {
    "name": "ipython",
    "version": 3
   },
   "file_extension": ".py",
   "mimetype": "text/x-python",
   "name": "python",
   "nbconvert_exporter": "python",
   "pygments_lexer": "ipython3",
   "version": "3.11.2"
  }
 },
 "nbformat": 4,
 "nbformat_minor": 5
}
