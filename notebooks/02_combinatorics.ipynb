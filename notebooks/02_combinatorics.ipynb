{
 "cells": [
  {
   "cell_type": "markdown",
   "id": "7d172359-e6d5-4bc6-b245-8f9cf7d2a5e2",
   "metadata": {},
   "source": [
    "# Combinatorics"
   ]
  },
  {
   "cell_type": "markdown",
   "id": "c28116a7-9a13-4a50-9a14-d3bc3a84a76c",
   "metadata": {},
   "source": [
    "The game consists of 150 cards, which the distribution is:\n",
    "\n",
    "```\n",
    "Card value:     -2 | -1 |  0 |  1 |  2 |  3 |  4 |  5 |  6 |  7 |  8 |  9 | 10 | 11 | 12\n",
    "------------------------------------------------------------------------------------------\n",
    "Number of cards: 5 | 10 | 15 | 10 | 10 | 10 | 10 | 10 | 10 | 10 | 10 | 10 | 10 | 10 | 10\n",
    "```\n",
    "So there is $15$ diferent cards\n"
   ]
  },
  {
   "cell_type": "markdown",
   "id": "2582a48a-1333-4350-aaaf-325a953cc3fc",
   "metadata": {},
   "source": []
  }
 ],
 "metadata": {
  "kernelspec": {
   "display_name": "Python 3 (ipykernel)",
   "language": "python",
   "name": "python3"
  },
  "language_info": {
   "codemirror_mode": {
    "name": "ipython",
    "version": 3
   },
   "file_extension": ".py",
   "mimetype": "text/x-python",
   "name": "python",
   "nbconvert_exporter": "python",
   "pygments_lexer": "ipython3",
   "version": "3.11.2"
  }
 },
 "nbformat": 4,
 "nbformat_minor": 5
}
