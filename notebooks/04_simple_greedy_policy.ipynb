{
 "cells": [
  {
   "cell_type": "markdown",
   "id": "2c1d90f3-1a57-4e90-81bc-beed196a5c59",
   "metadata": {},
   "source": [
    "# Simple greedy policy"
   ]
  },
  {
   "cell_type": "markdown",
   "id": "7d72eda5-1314-41ce-9926-5066ef1dd5cc",
   "metadata": {},
   "source": [
    "This simple greedy policy ($\\Pi_{SG}$) tries to play game with the best action possible in a given moment with minimal random steps. We are going to look at following metrics:\n",
    " - $\\mathbb{E}(X)=\\frac{76}{15} \\approx 5.06666$ - expected value when all cards are unknown\n",
    " - $\\mathbb{E}(X_t) \\in [-2, 12]$ - expected value of all _unknown_ cards at time $t$\n",
    " - $V(\\cdot) \\in [-2, 12]$ - value of a card\n",
    " - $V(discard\\ pile)$ - value of top card in discard pile\n",
    " - $V(drawn\\ card)$ - value of a drawn card\n",
    " - $\\max_{x \\in \\mathcal{B}}V(x)$ - highest card value on the board (board is 12 cards in front of each player)\n",
    "   - if card is not turned i.e. unknown value $V(x) = \\mathbb{E}(X_t)$ \n",
    " - $\\mathcal{R_i} \\in [0,12]$ - number of remaining (_unknown_) cards on $i$-th player's board"
   ]
  },
  {
   "cell_type": "markdown",
   "id": "ed026d8b-8717-4476-860f-3641351dea5f",
   "metadata": {},
   "source": [
    "## Policy flow\n",
    "1. draw a card from discard pile ($V(discard\\ pile)$) or deck $\\mathbb{E}(X_t)$, which one is lower\n",
    "2. replace card with the highest difference between drawn card and any card on the board, unknown cards has value $\\mathbb{E}(X_t)$, i.e. $$\\max_{x\\in\\mathcal{B}}\\big[V(x) - V(drawn\\ card)\\big]$$ If more cards have the same value, pick one of them at random.\n",
    "3. repeat till all cards are turned or someone else ended the game"
   ]
  }
 ],
 "metadata": {
  "kernelspec": {
   "display_name": "Python 3 (ipykernel)",
   "language": "python",
   "name": "python3"
  },
  "language_info": {
   "codemirror_mode": {
    "name": "ipython",
    "version": 3
   },
   "file_extension": ".py",
   "mimetype": "text/x-python",
   "name": "python",
   "nbconvert_exporter": "python",
   "pygments_lexer": "ipython3",
   "version": "3.11.2"
  }
 },
 "nbformat": 4,
 "nbformat_minor": 5
}
