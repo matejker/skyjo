{
 "cells": [
  {
   "cell_type": "markdown",
   "id": "2c1d90f3-1a57-4e90-81bc-beed196a5c59",
   "metadata": {},
   "source": [
    "# Simple greedy policy"
   ]
  },
  {
   "cell_type": "markdown",
   "id": "7d72eda5-1314-41ce-9926-5066ef1dd5cc",
   "metadata": {},
   "source": [
    "This simple greedy policy tries to play game with the best action possible in a given moment with minimal random steps. We are going to look at following metrics:\n",
    " - $\\mathbb{E}(X)=\\frac{76}{15} \\approx 5.06666$ - expected value when all cards are unknown\n",
    " - $\\mathbb{E}(X_t) \\in [-2, 12]$ - expected value of all _unknown_ cards at time $t$\n",
    " - $V(\\cdot) \\in [-2, 12]$ - value of a card\n",
    " - $V(discard\\ pile)$ - value of top card in discard pile\n",
    " - $V(drawn\\ card)$ - value of a drawn card\n",
    " - $V(\\max_{C \\in \\mathcal{B}}(C))$ - highest card value on the board\n",
    " - $\\mathcal{R_i} \\in [0,12]$ - number of remaining (_unknown_) cards on $i$-th player's board"
   ]
  },
  {
   "cell_type": "code",
   "execution_count": null,
   "id": "eebb816c-1887-4396-8424-eb13e295a1a1",
   "metadata": {},
   "outputs": [],
   "source": []
  }
 ],
 "metadata": {
  "kernelspec": {
   "display_name": "Python 3 (ipykernel)",
   "language": "python",
   "name": "python3"
  },
  "language_info": {
   "codemirror_mode": {
    "name": "ipython",
    "version": 3
   },
   "file_extension": ".py",
   "mimetype": "text/x-python",
   "name": "python",
   "nbconvert_exporter": "python",
   "pygments_lexer": "ipython3",
   "version": "3.11.2"
  }
 },
 "nbformat": 4,
 "nbformat_minor": 5
}
